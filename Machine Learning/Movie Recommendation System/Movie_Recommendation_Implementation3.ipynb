{
  "cells": [
    {
      "cell_type": "markdown",
      "metadata": {
        "id": "cqRFu83Sze7r"
      },
      "source": [
        "### Import libraries"
      ]
    },
    {
      "cell_type": "code",
      "execution_count": 2,
      "metadata": {
        "colab": {
          "base_uri": "https://localhost:8080/"
        },
        "id": "e9aX17yfze7u",
        "outputId": "02c40f15-790c-44ca-b311-04b6b04aa957"
      },
      "outputs": [
        {
          "output_type": "stream",
          "name": "stdout",
          "text": [
            "Collecting pyspark\n",
            "  Downloading pyspark-3.5.1.tar.gz (317.0 MB)\n",
            "\u001b[2K     \u001b[90m━━━━━━━━━━━━━━━━━━━━━━━━━━━━━━━━━━━━━━━━\u001b[0m \u001b[32m317.0/317.0 MB\u001b[0m \u001b[31m1.9 MB/s\u001b[0m eta \u001b[36m0:00:00\u001b[0m\n",
            "\u001b[?25h  Preparing metadata (setup.py) ... \u001b[?25l\u001b[?25hdone\n",
            "Requirement already satisfied: py4j==0.10.9.7 in /usr/local/lib/python3.10/dist-packages (from pyspark) (0.10.9.7)\n",
            "Building wheels for collected packages: pyspark\n",
            "  Building wheel for pyspark (setup.py) ... \u001b[?25l\u001b[?25hdone\n",
            "  Created wheel for pyspark: filename=pyspark-3.5.1-py2.py3-none-any.whl size=317488491 sha256=1a72eeba5295fcfb2626bcc83d5fab5960525da00c8763a2d282814bca3b98e3\n",
            "  Stored in directory: /root/.cache/pip/wheels/80/1d/60/2c256ed38dddce2fdd93be545214a63e02fbd8d74fb0b7f3a6\n",
            "Successfully built pyspark\n",
            "Installing collected packages: pyspark\n",
            "Successfully installed pyspark-3.5.1\n"
          ]
        }
      ],
      "source": [
        "#https://grouplens.org/datasets/movielens/\n",
        "! pip install pyspark\n"
      ]
    },
    {
      "cell_type": "code",
      "execution_count": 3,
      "metadata": {
        "id": "snPWR_5rze7v"
      },
      "outputs": [],
      "source": [
        "import pandas as pd\n",
        "from pyspark.sql.functions import col, explode\n",
        "from pyspark import SparkContext"
      ]
    },
    {
      "cell_type": "markdown",
      "metadata": {
        "id": "fk6nmQ9Tze7w"
      },
      "source": [
        "### Initiate spark session"
      ]
    },
    {
      "cell_type": "code",
      "execution_count": 4,
      "metadata": {
        "id": "QOewyvfqze7w"
      },
      "outputs": [],
      "source": [
        "from pyspark.sql import SparkSession\n",
        "sc = SparkContext\n",
        "# sc.setCheckpointDir('checkpoint')\n",
        "spark = SparkSession.builder.appName('Recommendations').getOrCreate()"
      ]
    },
    {
      "cell_type": "markdown",
      "metadata": {
        "id": "WPICNMVSze7x"
      },
      "source": [
        "# 1. Load data"
      ]
    },
    {
      "cell_type": "code",
      "execution_count": 5,
      "metadata": {
        "id": "SSdKcvGQze7x"
      },
      "outputs": [],
      "source": [
        "movies = spark.read.csv(\"movies.csv\",header=True)\n",
        "ratings = spark.read.csv(\"ratings.csv\",header=True)"
      ]
    },
    {
      "cell_type": "code",
      "execution_count": 6,
      "metadata": {
        "colab": {
          "base_uri": "https://localhost:8080/"
        },
        "id": "rkS5azKlze7x",
        "outputId": "309b3352-ab2d-4ea5-de2a-e773c12377df"
      },
      "outputs": [
        {
          "output_type": "stream",
          "name": "stdout",
          "text": [
            "+------+-------+------+---------+\n",
            "|userId|movieId|rating|timestamp|\n",
            "+------+-------+------+---------+\n",
            "|     1|      1|   4.0|964982703|\n",
            "|     1|      3|   4.0|964981247|\n",
            "|     1|      6|   4.0|964982224|\n",
            "|     1|     47|   5.0|964983815|\n",
            "|     1|     50|   5.0|964982931|\n",
            "|     1|     70|   3.0|964982400|\n",
            "|     1|    101|   5.0|964980868|\n",
            "|     1|    110|   4.0|964982176|\n",
            "|     1|    151|   5.0|964984041|\n",
            "|     1|    157|   5.0|964984100|\n",
            "|     1|    163|   5.0|964983650|\n",
            "|     1|    216|   5.0|964981208|\n",
            "|     1|    223|   3.0|964980985|\n",
            "|     1|    231|   5.0|964981179|\n",
            "|     1|    235|   4.0|964980908|\n",
            "|     1|    260|   5.0|964981680|\n",
            "|     1|    296|   3.0|964982967|\n",
            "|     1|    316|   3.0|964982310|\n",
            "|     1|    333|   5.0|964981179|\n",
            "|     1|    349|   4.0|964982563|\n",
            "+------+-------+------+---------+\n",
            "only showing top 20 rows\n",
            "\n"
          ]
        }
      ],
      "source": [
        "ratings.show()"
      ]
    },
    {
      "cell_type": "code",
      "execution_count": 7,
      "metadata": {
        "colab": {
          "base_uri": "https://localhost:8080/"
        },
        "id": "n0Fwzz-jze7y",
        "outputId": "73e3860a-4b3a-4621-86ba-34c83fd8ca8f"
      },
      "outputs": [
        {
          "output_type": "stream",
          "name": "stdout",
          "text": [
            "root\n",
            " |-- userId: string (nullable = true)\n",
            " |-- movieId: string (nullable = true)\n",
            " |-- rating: string (nullable = true)\n",
            " |-- timestamp: string (nullable = true)\n",
            "\n"
          ]
        }
      ],
      "source": [
        "ratings.printSchema()"
      ]
    },
    {
      "cell_type": "code",
      "execution_count": 8,
      "metadata": {
        "colab": {
          "base_uri": "https://localhost:8080/"
        },
        "id": "vkZcDOM9ze7z",
        "outputId": "482454aa-a2af-4f90-88a5-2f07b273cafb"
      },
      "outputs": [
        {
          "output_type": "stream",
          "name": "stdout",
          "text": [
            "+------+-------+------+\n",
            "|userId|movieId|rating|\n",
            "+------+-------+------+\n",
            "|     1|      1|   4.0|\n",
            "|     1|      3|   4.0|\n",
            "|     1|      6|   4.0|\n",
            "|     1|     47|   5.0|\n",
            "|     1|     50|   5.0|\n",
            "|     1|     70|   3.0|\n",
            "|     1|    101|   5.0|\n",
            "|     1|    110|   4.0|\n",
            "|     1|    151|   5.0|\n",
            "|     1|    157|   5.0|\n",
            "|     1|    163|   5.0|\n",
            "|     1|    216|   5.0|\n",
            "|     1|    223|   3.0|\n",
            "|     1|    231|   5.0|\n",
            "|     1|    235|   4.0|\n",
            "|     1|    260|   5.0|\n",
            "|     1|    296|   3.0|\n",
            "|     1|    316|   3.0|\n",
            "|     1|    333|   5.0|\n",
            "|     1|    349|   4.0|\n",
            "+------+-------+------+\n",
            "only showing top 20 rows\n",
            "\n"
          ]
        }
      ],
      "source": [
        "ratings = ratings.\\\n",
        "    withColumn('userId', col('userId').cast('integer')).\\\n",
        "    withColumn('movieId', col('movieId').cast('integer')).\\\n",
        "    withColumn('rating', col('rating').cast('float')).\\\n",
        "    drop('timestamp')\n",
        "ratings.show()"
      ]
    },
    {
      "cell_type": "markdown",
      "metadata": {
        "id": "yWi990LGze7z"
      },
      "source": [
        "## Calculate sparsity"
      ]
    },
    {
      "cell_type": "code",
      "execution_count": 9,
      "metadata": {
        "colab": {
          "base_uri": "https://localhost:8080/"
        },
        "id": "-kznCHtNze7z",
        "outputId": "7d82575d-9718-48d2-ade4-6b3fdc64c33f"
      },
      "outputs": [
        {
          "output_type": "stream",
          "name": "stdout",
          "text": [
            "The ratings dataframe is  98.30% empty.\n"
          ]
        }
      ],
      "source": [
        "# Count the total number of ratings in the dataset\n",
        "numerator = ratings.select(\"rating\").count()\n",
        "\n",
        "# Count the number of distinct userIds and distinct movieIds\n",
        "num_users = ratings.select(\"userId\").distinct().count()\n",
        "num_movies = ratings.select(\"movieId\").distinct().count()\n",
        "\n",
        "# Set the denominator equal to the number of users multiplied by the number of movies\n",
        "denominator = num_users * num_movies\n",
        "\n",
        "# Divide the numerator by the denominator\n",
        "sparsity = (1.0 - (numerator *1.0)/denominator)*100\n",
        "print(\"The ratings dataframe is \", \"%.2f\" % sparsity + \"% empty.\")"
      ]
    },
    {
      "cell_type": "markdown",
      "metadata": {
        "id": "bylXBSDlze70"
      },
      "source": [
        "## Interpret ratings"
      ]
    },
    {
      "cell_type": "code",
      "execution_count": 10,
      "metadata": {
        "colab": {
          "base_uri": "https://localhost:8080/"
        },
        "id": "towwpr2zze71",
        "outputId": "a29036e4-c8d5-4c0b-e35f-696d448354f2"
      },
      "outputs": [
        {
          "output_type": "stream",
          "name": "stdout",
          "text": [
            "+------+-----+\n",
            "|userId|count|\n",
            "+------+-----+\n",
            "|   414| 2698|\n",
            "|   599| 2478|\n",
            "|   474| 2108|\n",
            "|   448| 1864|\n",
            "|   274| 1346|\n",
            "|   610| 1302|\n",
            "|    68| 1260|\n",
            "|   380| 1218|\n",
            "|   606| 1115|\n",
            "|   288| 1055|\n",
            "|   249| 1046|\n",
            "|   387| 1027|\n",
            "|   182|  977|\n",
            "|   307|  975|\n",
            "|   603|  943|\n",
            "|   298|  939|\n",
            "|   177|  904|\n",
            "|   318|  879|\n",
            "|   232|  862|\n",
            "|   480|  836|\n",
            "+------+-----+\n",
            "only showing top 20 rows\n",
            "\n"
          ]
        }
      ],
      "source": [
        "# Group data by userId, count ratings\n",
        "userId_ratings = ratings.groupBy(\"userId\").count().orderBy('count', ascending=False)\n",
        "userId_ratings.show()"
      ]
    },
    {
      "cell_type": "code",
      "execution_count": 11,
      "metadata": {
        "colab": {
          "base_uri": "https://localhost:8080/"
        },
        "id": "gMPnaPK2ze71",
        "outputId": "b2b8988a-b09c-4d0f-d41a-e2d21153a14e"
      },
      "outputs": [
        {
          "output_type": "stream",
          "name": "stdout",
          "text": [
            "+-------+-----+\n",
            "|movieId|count|\n",
            "+-------+-----+\n",
            "|    356|  329|\n",
            "|    318|  317|\n",
            "|    296|  307|\n",
            "|    593|  279|\n",
            "|   2571|  278|\n",
            "|    260|  251|\n",
            "|    480|  238|\n",
            "|    110|  237|\n",
            "|    589|  224|\n",
            "|    527|  220|\n",
            "|   2959|  218|\n",
            "|      1|  215|\n",
            "|   1196|  211|\n",
            "|     50|  204|\n",
            "|   2858|  204|\n",
            "|     47|  203|\n",
            "|    780|  202|\n",
            "|    150|  201|\n",
            "|   1198|  200|\n",
            "|   4993|  198|\n",
            "+-------+-----+\n",
            "only showing top 20 rows\n",
            "\n"
          ]
        }
      ],
      "source": [
        "# Group data by userId, count ratings\n",
        "movieId_ratings = ratings.groupBy(\"movieId\").count().orderBy('count', ascending=False)\n",
        "movieId_ratings.show()"
      ]
    },
    {
      "cell_type": "markdown",
      "metadata": {
        "id": "6xSTL_Bcze71"
      },
      "source": [
        "## Build Out An ALS Model"
      ]
    },
    {
      "cell_type": "code",
      "execution_count": 12,
      "metadata": {
        "id": "-MTk9SVQze72"
      },
      "outputs": [],
      "source": [
        "# Import the required functions\n",
        "from pyspark.ml.evaluation import RegressionEvaluator\n",
        "from pyspark.ml.recommendation import ALS\n",
        "from pyspark.ml.tuning import ParamGridBuilder, CrossValidator"
      ]
    },
    {
      "cell_type": "code",
      "execution_count": 13,
      "metadata": {
        "colab": {
          "base_uri": "https://localhost:8080/",
          "height": 255
        },
        "id": "SKu6jFQ6ze72",
        "outputId": "d482f157-e361-47d2-aab0-34bab0a76f9f"
      },
      "outputs": [
        {
          "output_type": "execute_result",
          "data": {
            "text/plain": [
              "pyspark.ml.recommendation.ALS"
            ],
            "text/html": [
              "<div style=\"max-width:800px; border: 1px solid var(--colab-border-color);\"><style>\n",
              "      pre.function-repr-contents {\n",
              "        overflow-x: auto;\n",
              "        padding: 8px 12px;\n",
              "        max-height: 500px;\n",
              "      }\n",
              "\n",
              "      pre.function-repr-contents.function-repr-contents-collapsed {\n",
              "        cursor: pointer;\n",
              "        max-height: 100px;\n",
              "      }\n",
              "    </style>\n",
              "    <pre style=\"white-space: initial; background:\n",
              "         var(--colab-secondary-surface-color); padding: 8px 12px;\n",
              "         border-bottom: 1px solid var(--colab-border-color);\"><b>pyspark.ml.recommendation.ALS</b><br/>def __init__(*, rank: int=10, maxIter: int=10, regParam: float=0.1, numUserBlocks: int=10, numItemBlocks: int=10, implicitPrefs: bool=False, alpha: float=1.0, userCol: str=&#x27;user&#x27;, itemCol: str=&#x27;item&#x27;, seed: Optional[int]=None, ratingCol: str=&#x27;rating&#x27;, nonnegative: bool=False, checkpointInterval: int=10, intermediateStorageLevel: str=&#x27;MEMORY_AND_DISK&#x27;, finalStorageLevel: str=&#x27;MEMORY_AND_DISK&#x27;, coldStartStrategy: str=&#x27;nan&#x27;, blockSize: int=4096)</pre><pre class=\"function-repr-contents function-repr-contents-collapsed\" style=\"\"><a class=\"filepath\" style=\"display:none\" href=\"#\">/usr/local/lib/python3.10/dist-packages/pyspark/ml/recommendation.py</a>Alternating Least Squares (ALS) matrix factorization.\n",
              "\n",
              "ALS attempts to estimate the ratings matrix `R` as the product of\n",
              "two lower-rank matrices, `X` and `Y`, i.e. `X * Yt = R`. Typically\n",
              "these approximations are called &#x27;factor&#x27; matrices. The general\n",
              "approach is iterative. During each iteration, one of the factor\n",
              "matrices is held constant, while the other is solved for using least\n",
              "squares. The newly-solved factor matrix is then held constant while\n",
              "solving for the other factor matrix.\n",
              "\n",
              "This is a blocked implementation of the ALS factorization algorithm\n",
              "that groups the two sets of factors (referred to as &quot;users&quot; and\n",
              "&quot;products&quot;) into blocks and reduces communication by only sending\n",
              "one copy of each user vector to each product block on each\n",
              "iteration, and only for the product blocks that need that user&#x27;s\n",
              "feature vector. This is achieved by pre-computing some information\n",
              "about the ratings matrix to determine the &quot;out-links&quot; of each user\n",
              "(which blocks of products it will contribute to) and &quot;in-link&quot;\n",
              "information for each product (which of the feature vectors it\n",
              "receives from each user block it will depend on). This allows us to\n",
              "send only an array of feature vectors between each user block and\n",
              "product block, and have the product block find the users&#x27; ratings\n",
              "and update the products based on these messages.\n",
              "\n",
              "For implicit preference data, the algorithm used is based on\n",
              "`&quot;Collaborative Filtering for Implicit Feedback Datasets&quot;,\n",
              "&lt;https://doi.org/10.1109/ICDM.2008.22&gt;`_, adapted for the blocked\n",
              "approach used here.\n",
              "\n",
              "Essentially instead of finding the low-rank approximations to the\n",
              "rating matrix `R`, this finds the approximations for a preference\n",
              "matrix `P` where the elements of `P` are 1 if r &gt; 0 and 0 if r &lt;= 0.\n",
              "The ratings then act as &#x27;confidence&#x27; values related to strength of\n",
              "indicated user preferences rather than explicit ratings given to\n",
              "items.\n",
              "\n",
              ".. versionadded:: 1.4.0\n",
              "\n",
              "Notes\n",
              "-----\n",
              "The input rating dataframe to the ALS implementation should be deterministic.\n",
              "Nondeterministic data can cause failure during fitting ALS model.\n",
              "For example, an order-sensitive operation like sampling after a repartition makes\n",
              "dataframe output nondeterministic, like `df.repartition(2).sample(False, 0.5, 1618)`.\n",
              "Checkpointing sampled dataframe or adding a sort before sampling can help make the\n",
              "dataframe deterministic.\n",
              "\n",
              "Examples\n",
              "--------\n",
              "&gt;&gt;&gt; df = spark.createDataFrame(\n",
              "...     [(0, 0, 4.0), (0, 1, 2.0), (1, 1, 3.0), (1, 2, 4.0), (2, 1, 1.0), (2, 2, 5.0)],\n",
              "...     [&quot;user&quot;, &quot;item&quot;, &quot;rating&quot;])\n",
              "&gt;&gt;&gt; als = ALS(rank=10, seed=0)\n",
              "&gt;&gt;&gt; als.setMaxIter(5)\n",
              "ALS...\n",
              "&gt;&gt;&gt; als.getMaxIter()\n",
              "5\n",
              "&gt;&gt;&gt; als.setRegParam(0.1)\n",
              "ALS...\n",
              "&gt;&gt;&gt; als.getRegParam()\n",
              "0.1\n",
              "&gt;&gt;&gt; als.clear(als.regParam)\n",
              "&gt;&gt;&gt; model = als.fit(df)\n",
              "&gt;&gt;&gt; model.getBlockSize()\n",
              "4096\n",
              "&gt;&gt;&gt; model.getUserCol()\n",
              "&#x27;user&#x27;\n",
              "&gt;&gt;&gt; model.setUserCol(&quot;user&quot;)\n",
              "ALSModel...\n",
              "&gt;&gt;&gt; model.getItemCol()\n",
              "&#x27;item&#x27;\n",
              "&gt;&gt;&gt; model.setPredictionCol(&quot;newPrediction&quot;)\n",
              "ALS...\n",
              "&gt;&gt;&gt; model.rank\n",
              "10\n",
              "&gt;&gt;&gt; model.userFactors.orderBy(&quot;id&quot;).collect()\n",
              "[Row(id=0, features=[...]), Row(id=1, ...), Row(id=2, ...)]\n",
              "&gt;&gt;&gt; test = spark.createDataFrame([(0, 2), (1, 0), (2, 0)], [&quot;user&quot;, &quot;item&quot;])\n",
              "&gt;&gt;&gt; predictions = sorted(model.transform(test).collect(), key=lambda r: r[0])\n",
              "&gt;&gt;&gt; predictions[0]\n",
              "Row(user=0, item=2, newPrediction=0.6929...)\n",
              "&gt;&gt;&gt; predictions[1]\n",
              "Row(user=1, item=0, newPrediction=3.47356...)\n",
              "&gt;&gt;&gt; predictions[2]\n",
              "Row(user=2, item=0, newPrediction=-0.899198...)\n",
              "&gt;&gt;&gt; user_recs = model.recommendForAllUsers(3)\n",
              "&gt;&gt;&gt; user_recs.where(user_recs.user == 0)        .select(&quot;recommendations.item&quot;, &quot;recommendations.rating&quot;).collect()\n",
              "[Row(item=[0, 1, 2], rating=[3.910..., 1.997..., 0.692...])]\n",
              "&gt;&gt;&gt; item_recs = model.recommendForAllItems(3)\n",
              "&gt;&gt;&gt; item_recs.where(item_recs.item == 2)        .select(&quot;recommendations.user&quot;, &quot;recommendations.rating&quot;).collect()\n",
              "[Row(user=[2, 1, 0], rating=[4.892..., 3.991..., 0.692...])]\n",
              "&gt;&gt;&gt; user_subset = df.where(df.user == 2)\n",
              "&gt;&gt;&gt; user_subset_recs = model.recommendForUserSubset(user_subset, 3)\n",
              "&gt;&gt;&gt; user_subset_recs.select(&quot;recommendations.item&quot;, &quot;recommendations.rating&quot;).first()\n",
              "Row(item=[2, 1, 0], rating=[4.892..., 1.076..., -0.899...])\n",
              "&gt;&gt;&gt; item_subset = df.where(df.item == 0)\n",
              "&gt;&gt;&gt; item_subset_recs = model.recommendForItemSubset(item_subset, 3)\n",
              "&gt;&gt;&gt; item_subset_recs.select(&quot;recommendations.user&quot;, &quot;recommendations.rating&quot;).first()\n",
              "Row(user=[0, 1, 2], rating=[3.910..., 3.473..., -0.899...])\n",
              "&gt;&gt;&gt; als_path = temp_path + &quot;/als&quot;\n",
              "&gt;&gt;&gt; als.save(als_path)\n",
              "&gt;&gt;&gt; als2 = ALS.load(als_path)\n",
              "&gt;&gt;&gt; als.getMaxIter()\n",
              "5\n",
              "&gt;&gt;&gt; model_path = temp_path + &quot;/als_model&quot;\n",
              "&gt;&gt;&gt; model.save(model_path)\n",
              "&gt;&gt;&gt; model2 = ALSModel.load(model_path)\n",
              "&gt;&gt;&gt; model.rank == model2.rank\n",
              "True\n",
              "&gt;&gt;&gt; sorted(model.userFactors.collect()) == sorted(model2.userFactors.collect())\n",
              "True\n",
              "&gt;&gt;&gt; sorted(model.itemFactors.collect()) == sorted(model2.itemFactors.collect())\n",
              "True\n",
              "&gt;&gt;&gt; model.transform(test).take(1) == model2.transform(test).take(1)\n",
              "True</pre>\n",
              "      <script>\n",
              "      if (google.colab.kernel.accessAllowed && google.colab.files && google.colab.files.view) {\n",
              "        for (const element of document.querySelectorAll('.filepath')) {\n",
              "          element.style.display = 'block'\n",
              "          element.onclick = (event) => {\n",
              "            event.preventDefault();\n",
              "            event.stopPropagation();\n",
              "            google.colab.files.view(element.textContent, 245);\n",
              "          };\n",
              "        }\n",
              "      }\n",
              "      for (const element of document.querySelectorAll('.function-repr-contents')) {\n",
              "        element.onclick = (event) => {\n",
              "          event.preventDefault();\n",
              "          event.stopPropagation();\n",
              "          element.classList.toggle('function-repr-contents-collapsed');\n",
              "        };\n",
              "      }\n",
              "      </script>\n",
              "      </div>"
            ]
          },
          "metadata": {},
          "execution_count": 13
        }
      ],
      "source": [
        "# Create test and train set\n",
        "(train, test) = ratings.randomSplit([0.8, 0.2], seed = 1234)\n",
        "\n",
        "# Create ALS model\n",
        "als = ALS(userCol=\"userId\", itemCol=\"movieId\", ratingCol=\"rating\", nonnegative = True, implicitPrefs = False, coldStartStrategy=\"drop\")\n",
        "\n",
        "# Confirm that a model called \"als\" was created\n",
        "type(als)"
      ]
    },
    {
      "cell_type": "markdown",
      "metadata": {
        "id": "3Fa_ueNize72"
      },
      "source": [
        "## Tell Spark how to tune your ALS model"
      ]
    },
    {
      "cell_type": "code",
      "execution_count": 23,
      "metadata": {
        "colab": {
          "base_uri": "https://localhost:8080/"
        },
        "id": "VnB-v3Pcze72",
        "outputId": "da56336e-a194-4363-cc64-27c2f4d5dc41"
      },
      "outputs": [
        {
          "output_type": "stream",
          "name": "stdout",
          "text": [
            "Num models to be tested:  16\n"
          ]
        }
      ],
      "source": [
        "# Import the requisite items\n",
        "from pyspark.ml.evaluation import RegressionEvaluator\n",
        "from pyspark.ml.tuning import ParamGridBuilder, CrossValidator\n",
        "\n",
        "# Add hyperparameters and their respective values to param_grid\n",
        "param_grid = ParamGridBuilder() \\\n",
        "            .addGrid(als.rank, [10, 50, 100, 150]) \\\n",
        "            .addGrid(als.regParam, [.01, .05, .1, .15]) \\\n",
        "            .build()\n",
        "            # .addGrid(als.rank, [10, 50, 100, 150]) \\\n",
        "            # .addGrid(als.regParam, [.01, .05, .1, .15]) \\\n",
        "            #             .addGrid(als.maxIter, [5, 50, 100, 200]) \\\n",
        "\n",
        "\n",
        "# Define evaluator as RMSE and print length of evaluator\n",
        "evaluator = RegressionEvaluator(metricName=\"rmse\", labelCol=\"rating\", predictionCol=\"prediction\")\n",
        "print (\"Num models to be tested: \", len(param_grid))"
      ]
    },
    {
      "cell_type": "markdown",
      "metadata": {
        "id": "1Q9yIfNLze72"
      },
      "source": [
        "## Build your cross validation pipeline"
      ]
    },
    {
      "cell_type": "code",
      "execution_count": 24,
      "metadata": {
        "colab": {
          "base_uri": "https://localhost:8080/"
        },
        "id": "sP1KPDeSze72",
        "outputId": "8149a31c-6d55-4906-cd47-e41b748eea55"
      },
      "outputs": [
        {
          "output_type": "stream",
          "name": "stdout",
          "text": [
            "CrossValidator_d9751289a42d\n"
          ]
        }
      ],
      "source": [
        "# Build cross validation using CrossValidator\n",
        "cv = CrossValidator(estimator=als, estimatorParamMaps=param_grid, evaluator=evaluator, numFolds=5)\n",
        "\n",
        "# Confirm cv was built\n",
        "print(cv)"
      ]
    },
    {
      "cell_type": "markdown",
      "metadata": {
        "id": "JLuZu9ozze73"
      },
      "source": [
        "## Best Model and Best Model Parameters"
      ]
    },
    {
      "cell_type": "code",
      "execution_count": 25,
      "metadata": {
        "id": "wPpmXWluze73"
      },
      "outputs": [],
      "source": [
        "#Fit cross validator to the 'train' dataset\n",
        "model = cv.fit(train)\n",
        "\n",
        "#Extract best model from the cv model above\n",
        "best_model = model.bestModel"
      ]
    },
    {
      "cell_type": "code",
      "execution_count": 26,
      "metadata": {
        "colab": {
          "base_uri": "https://localhost:8080/"
        },
        "id": "lhGWxz74ze73",
        "outputId": "0669e1d8-7162-4383-b242-5e60497521e8"
      },
      "outputs": [
        {
          "output_type": "stream",
          "name": "stdout",
          "text": [
            "<class 'pyspark.ml.recommendation.ALSModel'>\n",
            "**Best Model**\n",
            "  Rank: 150\n",
            "  MaxIter: 10\n",
            "  RegParam: 0.15\n"
          ]
        }
      ],
      "source": [
        "\n",
        "# Print best_model\n",
        "print(type(best_model))\n",
        "\n",
        "# Complete the code below to extract the ALS model parameters\n",
        "print(\"**Best Model**\")\n",
        "\n",
        "# # Print \"Rank\"\n",
        "print(\"  Rank:\", best_model._java_obj.parent().getRank())\n",
        "\n",
        "# Print \"MaxIter\"\n",
        "print(\"  MaxIter:\", best_model._java_obj.parent().getMaxIter())\n",
        "\n",
        "# Print \"RegParam\"\n",
        "print(\"  RegParam:\", best_model._java_obj.parent().getRegParam())"
      ]
    },
    {
      "cell_type": "code",
      "execution_count": 27,
      "metadata": {
        "scrolled": true,
        "colab": {
          "base_uri": "https://localhost:8080/"
        },
        "id": "gjrc5VHyze73",
        "outputId": "716331c5-ae36-47b1-c1a6-c60765624cdd"
      },
      "outputs": [
        {
          "output_type": "stream",
          "name": "stdout",
          "text": [
            "0.8686757478487449\n"
          ]
        }
      ],
      "source": [
        "# View the predictions\n",
        "test_predictions = best_model.transform(test)\n",
        "RMSE = evaluator.evaluate(test_predictions)\n",
        "print(RMSE)"
      ]
    },
    {
      "cell_type": "code",
      "execution_count": 28,
      "metadata": {
        "colab": {
          "base_uri": "https://localhost:8080/"
        },
        "id": "hUOEpJy2ze73",
        "outputId": "8441e126-5997-456e-912a-0d19c9702260"
      },
      "outputs": [
        {
          "output_type": "stream",
          "name": "stdout",
          "text": [
            "+------+-------+------+----------+\n",
            "|userId|movieId|rating|prediction|\n",
            "+------+-------+------+----------+\n",
            "|   580|   1580|   4.0|  3.478784|\n",
            "|   580|  44022|   3.5| 3.2023113|\n",
            "|   597|    471|   2.0| 4.1615534|\n",
            "|   108|   1959|   5.0|  3.862041|\n",
            "|   368|   2122|   2.0| 1.9261185|\n",
            "|   436|    471|   3.0|  3.588469|\n",
            "|   587|   1580|   4.0|  3.832205|\n",
            "|    27|   1580|   3.0|  3.332755|\n",
            "|   606|   1580|   2.5| 3.1975017|\n",
            "|   606|  44022|   4.0| 2.8291454|\n",
            "|    91|   2122|   4.0| 2.3301415|\n",
            "|   157|   3175|   2.0| 3.4229364|\n",
            "|   232|   1580|   3.5| 3.3840704|\n",
            "|   232|  44022|   3.0| 3.1141841|\n",
            "|   246|   1645|   4.0| 3.8047955|\n",
            "|   599|   2366|   3.0| 2.8904629|\n",
            "|   111|   1088|   3.0| 3.2724707|\n",
            "|   111|   3175|   3.5| 3.0513966|\n",
            "|    47|   1580|   1.5|  2.692897|\n",
            "|   140|   1580|   3.0| 3.3814707|\n",
            "+------+-------+------+----------+\n",
            "only showing top 20 rows\n",
            "\n"
          ]
        }
      ],
      "source": [
        "test_predictions.show()"
      ]
    },
    {
      "cell_type": "markdown",
      "metadata": {
        "id": "2E5Qi5YLze74"
      },
      "source": [
        "## Make Recommendations"
      ]
    },
    {
      "cell_type": "code",
      "execution_count": 29,
      "metadata": {
        "colab": {
          "base_uri": "https://localhost:8080/"
        },
        "id": "cR4g0LCPze74",
        "outputId": "650bc65c-bcd4-462b-9598-418820e77cc0"
      },
      "outputs": [
        {
          "output_type": "stream",
          "name": "stdout",
          "text": [
            "+------+--------------------+\n",
            "|userId|     recommendations|\n",
            "+------+--------------------+\n",
            "|     1|[{3379, 5.697601}...|\n",
            "|     2|[{131724, 4.79658...|\n",
            "|     3|[{6835, 4.852727}...|\n",
            "|     4|[{3851, 4.852031}...|\n",
            "|     5|[{3379, 4.4983077...|\n",
            "|     6|[{33649, 4.743621...|\n",
            "|     7|[{5490, 4.4376974...|\n",
            "|     8|[{3379, 4.693673}...|\n",
            "|     9|[{3379, 4.7980165...|\n",
            "|    10|[{71579, 4.536898...|\n",
            "+------+--------------------+\n",
            "\n"
          ]
        }
      ],
      "source": [
        "# Generate n Recommendations for all users\n",
        "nrecommendations = best_model.recommendForAllUsers(10)\n",
        "nrecommendations.limit(10).show()"
      ]
    },
    {
      "cell_type": "code",
      "execution_count": 30,
      "metadata": {
        "colab": {
          "base_uri": "https://localhost:8080/"
        },
        "id": "ljfq_Ld7ze74",
        "outputId": "86d632a6-d8c3-489d-a5f3-50f5ce61100c"
      },
      "outputs": [
        {
          "output_type": "stream",
          "name": "stdout",
          "text": [
            "+------+-------+---------+\n",
            "|userId|movieId|   rating|\n",
            "+------+-------+---------+\n",
            "|     1|   3379| 5.697601|\n",
            "|     1|  33649|5.6020927|\n",
            "|     1|   5490|5.4960113|\n",
            "|     1| 171495|5.4037666|\n",
            "|     1|   5416|5.3591595|\n",
            "|     1|   5328|5.3591595|\n",
            "|     1|   3951|5.3591595|\n",
            "|     1|  78836| 5.349786|\n",
            "|     1|   5915|  5.33856|\n",
            "|     1|   8477|5.3376703|\n",
            "+------+-------+---------+\n",
            "\n"
          ]
        }
      ],
      "source": [
        "nrecommendations = nrecommendations\\\n",
        "    .withColumn(\"rec_exp\", explode(\"recommendations\"))\\\n",
        "    .select('userId', col(\"rec_exp.movieId\"), col(\"rec_exp.rating\"))\n",
        "\n",
        "nrecommendations.limit(10).show()"
      ]
    },
    {
      "cell_type": "markdown",
      "metadata": {
        "id": "bR412tJKze74"
      },
      "source": [
        "## Do the recommendations make sense?\n",
        "Lets merge movie name and genres to teh recommendation matrix for interpretability."
      ]
    },
    {
      "cell_type": "code",
      "execution_count": 31,
      "metadata": {
        "colab": {
          "base_uri": "https://localhost:8080/"
        },
        "id": "JVyOKeGqze8D",
        "outputId": "8483e255-f2a7-47d6-dc03-2a21ca7eec6c"
      },
      "outputs": [
        {
          "output_type": "stream",
          "name": "stdout",
          "text": [
            "+-------+------+---------+--------------------+--------------------+\n",
            "|movieId|userId|   rating|               title|              genres|\n",
            "+-------+------+---------+--------------------+--------------------+\n",
            "|  67618|   100|5.0594406|Strictly Sexual (...|Comedy|Drama|Romance|\n",
            "|  33649|   100|5.0490093|  Saving Face (2004)|Comedy|Drama|Romance|\n",
            "|   3379|   100|4.9890337| On the Beach (1959)|               Drama|\n",
            "|  42730|   100| 4.937909|   Glory Road (2006)|               Drama|\n",
            "|  74282|   100| 4.895174|Anne of Green Gab...|Children|Drama|Ro...|\n",
            "| 171495|   100|4.8927712|              Cosmos|  (no genres listed)|\n",
            "| 184245|   100| 4.888785|De platte jungle ...|         Documentary|\n",
            "| 179135|   100| 4.888785|Blue Planet II (2...|         Documentary|\n",
            "| 138966|   100| 4.888785|Nasu: Summer in A...|           Animation|\n",
            "| 117531|   100| 4.888785|    Watermark (2014)|         Documentary|\n",
            "+-------+------+---------+--------------------+--------------------+\n",
            "\n"
          ]
        }
      ],
      "source": [
        "nrecommendations.join(movies, on='movieId').filter('userId = 100').show()"
      ]
    },
    {
      "cell_type": "code",
      "execution_count": 32,
      "metadata": {
        "colab": {
          "base_uri": "https://localhost:8080/"
        },
        "id": "JmfOdiYdze8E",
        "outputId": "119a1975-e756-412a-f334-18ddcfc40988"
      },
      "outputs": [
        {
          "output_type": "stream",
          "name": "stdout",
          "text": [
            "+-------+------+------+--------------------+--------------------+\n",
            "|movieId|userId|rating|               title|              genres|\n",
            "+-------+------+------+--------------------+--------------------+\n",
            "|   1101|   100|   5.0|      Top Gun (1986)|      Action|Romance|\n",
            "|   1958|   100|   5.0|Terms of Endearme...|        Comedy|Drama|\n",
            "|   2423|   100|   5.0|Christmas Vacatio...|              Comedy|\n",
            "|   4041|   100|   5.0|Officer and a Gen...|       Drama|Romance|\n",
            "|   5620|   100|   5.0|Sweet Home Alabam...|      Comedy|Romance|\n",
            "|    368|   100|   4.5|     Maverick (1994)|Adventure|Comedy|...|\n",
            "|    934|   100|   4.5|Father of the Bri...|              Comedy|\n",
            "|    539|   100|   4.5|Sleepless in Seat...|Comedy|Drama|Romance|\n",
            "|     16|   100|   4.5|       Casino (1995)|         Crime|Drama|\n",
            "|    553|   100|   4.5|    Tombstone (1993)|Action|Drama|Western|\n",
            "+-------+------+------+--------------------+--------------------+\n",
            "\n"
          ]
        }
      ],
      "source": [
        "ratings.join(movies, on='movieId').filter('userId = 100').sort('rating', ascending=False).limit(10).show()"
      ]
    },
    {
      "cell_type": "code",
      "source": [],
      "metadata": {
        "id": "bvDvHpxaX-A6"
      },
      "execution_count": null,
      "outputs": []
    }
  ],
  "metadata": {
    "kernelspec": {
      "display_name": "Python 3",
      "language": "python",
      "name": "python3"
    },
    "language_info": {
      "codemirror_mode": {
        "name": "ipython",
        "version": 3
      },
      "file_extension": ".py",
      "mimetype": "text/x-python",
      "name": "python",
      "nbconvert_exporter": "python",
      "pygments_lexer": "ipython3",
      "version": "3.7.3"
    },
    "colab": {
      "provenance": []
    }
  },
  "nbformat": 4,
  "nbformat_minor": 0
}